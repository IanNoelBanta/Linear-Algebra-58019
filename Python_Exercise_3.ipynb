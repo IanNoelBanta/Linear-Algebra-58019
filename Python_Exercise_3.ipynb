{
  "nbformat": 4,
  "nbformat_minor": 0,
  "metadata": {
    "colab": {
      "name": "Python Exercise 3.ipynb",
      "provenance": [],
      "collapsed_sections": [],
      "authorship_tag": "ABX9TyPlPQ7UVmdhOm8K+e0yJtF/",
      "include_colab_link": true
    },
    "kernelspec": {
      "name": "python3",
      "display_name": "Python 3"
    },
    "language_info": {
      "name": "python"
    }
  },
  "cells": [
    {
      "cell_type": "markdown",
      "metadata": {
        "id": "view-in-github",
        "colab_type": "text"
      },
      "source": [
        "<a href=\"https://colab.research.google.com/github/Yaniii2021/Linear-Algebra-58019/blob/main/Python_Exercise_3.ipynb\" target=\"_parent\"><img src=\"https://colab.research.google.com/assets/colab-badge.svg\" alt=\"Open In Colab\"/></a>"
      ]
    },
    {
      "cell_type": "markdown",
      "metadata": {
        "id": "0OcTYGQ7RLZR"
      },
      "source": [
        "##Create a NumPy program that solves for the unknown variables of linear systems:\n",
        "\n",
        "4x +10y+8z = 44\n",
        "\n",
        "10x+26y+26z = 128\n",
        "\n",
        "8x+26y+61z = 214\n",
        "\n"
      ]
    },
    {
      "cell_type": "code",
      "metadata": {
        "id": "FHmQsqtAQfRf"
      },
      "source": [
        "import numpy as np"
      ],
      "execution_count": null,
      "outputs": []
    },
    {
      "cell_type": "code",
      "metadata": {
        "colab": {
          "base_uri": "https://localhost:8080/"
        },
        "id": "Gm1HWWnmQlD1",
        "outputId": "361719a9-f333-4a62-f8b8-b4639f60737d"
      },
      "source": [
        "A = np.array([[4,10,8],   #matrix A from the given system of linear equations\n",
        "              [10,26,26],\n",
        "              [8,26,61]])\n",
        "\n",
        "B = np.array([[44],       #constants from the given system of linear equations\n",
        "              [128],\n",
        "              [214]])\n",
        "\n",
        "answer = np.linalg.inv(A) @ B   #get the dot product of the inverse of matrix A and B to solve for the values of the unknown variables: x, y, z\n",
        "\n",
        "print(answer) #print the values for x, y, z"
      ],
      "execution_count": null,
      "outputs": [
        {
          "output_type": "stream",
          "name": "stdout",
          "text": [
            "[[-8.]\n",
            " [ 6.]\n",
            " [ 2.]]\n"
          ]
        }
      ]
    }
  ]
}