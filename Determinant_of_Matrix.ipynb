{
  "nbformat": 4,
  "nbformat_minor": 0,
  "metadata": {
    "colab": {
      "name": "Determinant of Matrix.ipynb",
      "provenance": [],
      "authorship_tag": "ABX9TyNww8fQluIW+uKgqrX5+hFz",
      "include_colab_link": true
    },
    "kernelspec": {
      "name": "python3",
      "display_name": "Python 3"
    },
    "language_info": {
      "name": "python"
    }
  },
  "cells": [
    {
      "cell_type": "markdown",
      "metadata": {
        "id": "view-in-github",
        "colab_type": "text"
      },
      "source": [
        "<a href=\"https://colab.research.google.com/github/Yaniii2021/Linear-Algebra-58019/blob/main/Determinant_of_Matrix.ipynb\" target=\"_parent\"><img src=\"https://colab.research.google.com/assets/colab-badge.svg\" alt=\"Open In Colab\"/></a>"
      ]
    },
    {
      "cell_type": "code",
      "metadata": {
        "id": "5TxollhL_5w3"
      },
      "source": [
        "import numpy as np # import numpy"
      ],
      "execution_count": 15,
      "outputs": []
    },
    {
      "cell_type": "code",
      "metadata": {
        "colab": {
          "base_uri": "https://localhost:8080/"
        },
        "id": "XJtLBiI3AHkO",
        "outputId": "9a540ae3-034f-480c-e097-9d7a83f3cbbb"
      },
      "source": [
        "print('Matrix A: ')\n",
        "A = np.array([[1,2,-1],\n",
        "              [4,6,-2],\n",
        "              [-1,3,3]])\n",
        "\n",
        "print(A)\n",
        "print()\n",
        "print(f'Raw Determinant = {np.linalg.det(A)}') # get the determinant - raw value\n",
        "print(f'Rounded Determinant = {round(np.linalg.det(A))}') # round to the nearest integer"
      ],
      "execution_count": 20,
      "outputs": [
        {
          "output_type": "stream",
          "name": "stdout",
          "text": [
            "Matrix A: \n",
            "[[ 1  2 -1]\n",
            " [ 4  6 -2]\n",
            " [-1  3  3]]\n",
            "\n",
            "Raw Determinant = -13.999999999999996\n",
            "Rounded Determinant = -14\n"
          ]
        }
      ]
    }
  ]
}