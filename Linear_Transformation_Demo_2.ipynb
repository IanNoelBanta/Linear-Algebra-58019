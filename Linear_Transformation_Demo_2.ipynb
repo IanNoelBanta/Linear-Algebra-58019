{
  "nbformat": 4,
  "nbformat_minor": 0,
  "metadata": {
    "colab": {
      "name": "Linear Transformation - Demo 2.ipynb",
      "provenance": [],
      "collapsed_sections": [],
      "authorship_tag": "ABX9TyOkIKrrO4q5oMwZO+yMbqJS",
      "include_colab_link": true
    },
    "kernelspec": {
      "name": "python3",
      "display_name": "Python 3"
    },
    "language_info": {
      "name": "python"
    }
  },
  "cells": [
    {
      "cell_type": "markdown",
      "metadata": {
        "id": "view-in-github",
        "colab_type": "text"
      },
      "source": [
        "<a href=\"https://colab.research.google.com/github/Yaniii2021/Linear-Algebra-58019/blob/main/Linear_Transformation_Demo_2.ipynb\" target=\"_parent\"><img src=\"https://colab.research.google.com/assets/colab-badge.svg\" alt=\"Open In Colab\"/></a>"
      ]
    },
    {
      "cell_type": "markdown",
      "metadata": {
        "id": "MVpB2m3sDSMg"
      },
      "source": [
        "##Using Python Codes, to find the inverse of a matrix, the matrix is passed to the linalg.inv() method of the Numpy module "
      ]
    },
    {
      "cell_type": "code",
      "metadata": {
        "id": "feSWEVqwEIsJ"
      },
      "source": [
        "import numpy as np"
      ],
      "execution_count": 3,
      "outputs": []
    },
    {
      "cell_type": "code",
      "metadata": {
        "colab": {
          "base_uri": "https://localhost:8080/"
        },
        "id": "i7d0i5Rr__mS",
        "outputId": "f4eeed83-da64-4100-a20e-01de75fa4146"
      },
      "source": [
        "A = np.array([[4,3],      #creation of matrix A\n",
        "              [-5,9]])\n",
        "print(A)\n",
        "\n",
        "inv_A = np.linalg.inv(A)  #get the inverse of A\n",
        "print(inv_A)"
      ],
      "execution_count": 11,
      "outputs": [
        {
          "output_type": "stream",
          "name": "stdout",
          "text": [
            "[[ 4  3]\n",
            " [-5  9]]\n",
            "[[ 0.17647059 -0.05882353]\n",
            " [ 0.09803922  0.07843137]]\n"
          ]
        }
      ]
    },
    {
      "cell_type": "code",
      "metadata": {
        "colab": {
          "base_uri": "https://localhost:8080/"
        },
        "id": "Nak0NfvXFllq",
        "outputId": "60d183d8-e7ea-40f6-b17c-eedf3c2c952c"
      },
      "source": [
        "B = np.array([[20],\n",
        "              [26]])\n",
        "print(B)"
      ],
      "execution_count": 12,
      "outputs": [
        {
          "output_type": "stream",
          "name": "stdout",
          "text": [
            "[[20]\n",
            " [26]]\n"
          ]
        }
      ]
    },
    {
      "cell_type": "code",
      "metadata": {
        "colab": {
          "base_uri": "https://localhost:8080/"
        },
        "id": "XZkiJ3hlGCZY",
        "outputId": "82b690c5-231e-4848-b5c7-ccdc59786b68"
      },
      "source": [
        "X = inv_A @ B #dot product of inv_A and B\n",
        "print(X)"
      ],
      "execution_count": 39,
      "outputs": [
        {
          "output_type": "stream",
          "name": "stdout",
          "text": [
            "[[2.]\n",
            " [4.]]\n"
          ]
        }
      ]
    },
    {
      "cell_type": "code",
      "metadata": {
        "colab": {
          "base_uri": "https://localhost:8080/"
        },
        "id": "qL5UtBMHHOlR",
        "outputId": "721a4abb-bc32-4b62-92a7-74f27292c2fa"
      },
      "source": [
        "X = np.dot(inv_A,B) #dot product of inv_A and B\n",
        "print(X)"
      ],
      "execution_count": 40,
      "outputs": [
        {
          "output_type": "stream",
          "name": "stdout",
          "text": [
            "[[2.]\n",
            " [4.]]\n"
          ]
        }
      ]
    },
    {
      "cell_type": "code",
      "metadata": {
        "colab": {
          "base_uri": "https://localhost:8080/"
        },
        "id": "RK3O8Ln4HUFz",
        "outputId": "5c51ad83-be95-4c89-c8fd-d18a75857893"
      },
      "source": [
        "C = np.array([[4,3,2],    #matrix C\n",
        "              [-2,2,3],\n",
        "              [3,-5,2]])\n",
        "\n",
        "#inv_C = np.linalg.inv(C)   #get the inverse of C\n",
        "\n",
        "D = np.array([[25],       #matrix D\n",
        "              [-10],\n",
        "              [-4]])\n",
        "\n",
        "E = np.linalg.inv(C) @ D  #dot product of the inverse of C and D\n",
        "\n",
        "print(E)\n"
      ],
      "execution_count": 41,
      "outputs": [
        {
          "output_type": "stream",
          "name": "stdout",
          "text": [
            "[[ 5.]\n",
            " [ 3.]\n",
            " [-2.]]\n"
          ]
        }
      ]
    },
    {
      "cell_type": "markdown",
      "metadata": {
        "id": "lNIn_ZTILi_n"
      },
      "source": [
        "##Application\n"
      ]
    },
    {
      "cell_type": "code",
      "metadata": {
        "colab": {
          "base_uri": "https://localhost:8080/"
        },
        "id": "w9UI3TVTKZAI",
        "outputId": "a6bf9a65-5865-4fd7-ac49-07b6fe34613f"
      },
      "source": [
        "fruits_sold = np.array([[20,10], #number of apples and oranges sold per day\n",
        "                        [17,22]])\n",
        "\n",
        "total_price = np.array([[350],    #total revenue per day\n",
        "                        [500]])\n",
        "\n",
        "price_of_apple_orange = np.linalg.inv(fruits_sold) @ total_price   #get price of apple and orange \n",
        "\n",
        "print(price_of_apple_orange)"
      ],
      "execution_count": 42,
      "outputs": [
        {
          "output_type": "stream",
          "name": "stdout",
          "text": [
            "[[10.]\n",
            " [15.]]\n"
          ]
        }
      ]
    },
    {
      "cell_type": "code",
      "metadata": {
        "colab": {
          "base_uri": "https://localhost:8080/"
        },
        "id": "MFlG4-_UOBvI",
        "outputId": "6f1fe47f-dcfa-4b42-a896-be9e8504b694"
      },
      "source": [
        "#checking\n",
        "checking = fruits_sold @ price_of_apple_orange #dot product of fruits sold and the prices for an apple and an orange\n",
        "print(checking)\n",
        "\n",
        "if 20*10 + 10*15 == 350:\n",
        "  print('True')\n",
        "else:\n",
        "  print('False')"
      ],
      "execution_count": 44,
      "outputs": [
        {
          "output_type": "stream",
          "name": "stdout",
          "text": [
            "[[350.]\n",
            " [500.]]\n",
            "True\n"
          ]
        }
      ]
    }
  ]
}