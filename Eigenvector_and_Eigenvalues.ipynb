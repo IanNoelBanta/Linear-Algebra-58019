{
  "nbformat": 4,
  "nbformat_minor": 0,
  "metadata": {
    "colab": {
      "name": "Eigenvector and Eigenvalues.ipynb",
      "provenance": [],
      "collapsed_sections": [],
      "authorship_tag": "ABX9TyO/3BEbWbuXeH3gHGdGZaay",
      "include_colab_link": true
    },
    "kernelspec": {
      "name": "python3",
      "display_name": "Python 3"
    },
    "language_info": {
      "name": "python"
    }
  },
  "cells": [
    {
      "cell_type": "markdown",
      "metadata": {
        "id": "view-in-github",
        "colab_type": "text"
      },
      "source": [
        "<a href=\"https://colab.research.google.com/github/Yaniii2021/Linear-Algebra-58019/blob/main/Eigenvector_and_Eigenvalues.ipynb\" target=\"_parent\"><img src=\"https://colab.research.google.com/assets/colab-badge.svg\" alt=\"Open In Colab\"/></a>"
      ]
    },
    {
      "cell_type": "code",
      "execution_count": 49,
      "metadata": {
        "id": "L29BY3xLRLr-"
      },
      "outputs": [],
      "source": [
        "import numpy as np\n",
        "from numpy.linalg import eig\n",
        "#from scipy.linalg import solve"
      ]
    },
    {
      "cell_type": "code",
      "source": [
        "A = np.array([[-12, 3], # create matrix A\n",
        "              [4, 1]])\n",
        "\n",
        "print(f'Matrix A:\\n {A}')                # print matrix A\n",
        "\n",
        "inv_A = np.linalg.inv(A)  # get the inverse of matrix A\n",
        "\n",
        "print(f'\\nInverse of Matrix A:\\n{inv_A}')       # print the inverse of matrix A\n",
        "\n",
        "B = np.array([[0],        # create matrix B\n",
        "              [0]])\n",
        "\n",
        "print(f'\\nMatrix B:\\n {B}')           # print matrix B\n",
        "\n",
        "X = np.dot(inv_A, B)      # get the dot product of the inverse of matrix A and matrix B\n",
        "\n",
        "print(f'\\nDot product:\\n{X}')           # print the solved dot product - wrong"
      ],
      "metadata": {
        "colab": {
          "base_uri": "https://localhost:8080/"
        },
        "id": "PFxlIxZbRfmS",
        "outputId": "85b09e33-3ce4-4e37-d020-f71f6c06294b"
      },
      "execution_count": 50,
      "outputs": [
        {
          "output_type": "stream",
          "name": "stdout",
          "text": [
            "Matrix A:\n",
            " [[-12   3]\n",
            " [  4   1]]\n",
            "\n",
            "Inverse of Matrix A:\n",
            "[[-0.04166667  0.125     ]\n",
            " [ 0.16666667  0.5       ]]\n",
            "\n",
            "Matrix B:\n",
            " [[0]\n",
            " [0]]\n",
            "\n",
            "Dot product:\n",
            "[[0.]\n",
            " [0.]]\n"
          ]
        }
      ]
    },
    {
      "cell_type": "markdown",
      "source": [
        "#Example 1"
      ],
      "metadata": {
        "id": "qVU_iFNH1kvR"
      }
    },
    {
      "cell_type": "code",
      "source": [
        "A = np.array([[-6, 3],  # create matrix A\n",
        "              [4, 5]])\n",
        "\n",
        "print(f'Matrix A:\\n{A}')\n",
        "\n",
        "value, vector = np.linalg.eig(A) # use the eig method in order to get the eigenvalue and eigenvector of a square matrix A\n",
        "\n",
        "print(f'\\nThe Eigenvalue/s is/are: {value}')  # print the eigenvalues\n",
        "\n",
        "print(f'\\nThe right Eigenvectors are: \\n{vector}')  # print the eigenvectors\n",
        "\n",
        "#print(f'\\nThe right Eigenvectors are: \\n{vector.round()}') # print the rounded eigenvectors"
      ],
      "metadata": {
        "colab": {
          "base_uri": "https://localhost:8080/"
        },
        "id": "xH8-B-PJyvyf",
        "outputId": "0f8a420c-553c-445a-a92b-43c84a358b9b"
      },
      "execution_count": 51,
      "outputs": [
        {
          "output_type": "stream",
          "name": "stdout",
          "text": [
            "Matrix A:\n",
            "[[-6  3]\n",
            " [ 4  5]]\n",
            "\n",
            "The Eigenvalue/s is/are: [-7.  6.]\n",
            "\n",
            "The right Eigenvectors are: \n",
            "[[-0.9486833  -0.24253563]\n",
            " [ 0.31622777 -0.9701425 ]]\n"
          ]
        }
      ]
    },
    {
      "cell_type": "markdown",
      "source": [
        "#Example 2"
      ],
      "metadata": {
        "id": "4dZT3xlN1t-P"
      }
    },
    {
      "cell_type": "code",
      "source": [
        "A = np.array([[2, 2, 4],  # create matrix A\n",
        "              [1, 3, 5],\n",
        "              [2, 3, 4]])\n",
        "\n",
        "print(A)  # print matrix A\n",
        "\n",
        "value, vector = np.linalg.eig(A)  # use the eig method in order to get the eigenvalue and eigenvector of a square matrix A\n",
        "\n",
        "print(f'\\nThe Eigenvalue/s is/are: {value.round()}')  # print the eigenvalues\n",
        "\n",
        "print(f'\\nThe right Eigenvectors are: \\n{vector.round()}\\n')  # print the eigenvectors\n",
        "\n",
        "C = np.dot(A, vector.round()) # get the dot product of matrix A and the eigenvector\n",
        "\n",
        "print(f'Dot product:\\n {C}') # print the dot product"
      ],
      "metadata": {
        "colab": {
          "base_uri": "https://localhost:8080/"
        },
        "id": "g7mx0Gp61tKw",
        "outputId": "5af8b737-80cc-47e3-9aa3-06c99b2503c5"
      },
      "execution_count": 52,
      "outputs": [
        {
          "output_type": "stream",
          "name": "stdout",
          "text": [
            "[[2 2 4]\n",
            " [1 3 5]\n",
            " [2 3 4]]\n",
            "\n",
            "The Eigenvalue/s is/are: [ 9.  1. -1.]\n",
            "\n",
            "The right Eigenvectors are: \n",
            "[[-1. -1. -0.]\n",
            " [-1.  1. -1.]\n",
            " [-1. -0.  1.]]\n",
            "\n",
            "Dot product:\n",
            " [[-8.  0.  2.]\n",
            " [-9.  2.  2.]\n",
            " [-9.  1.  1.]]\n"
          ]
        }
      ]
    }
  ]
}