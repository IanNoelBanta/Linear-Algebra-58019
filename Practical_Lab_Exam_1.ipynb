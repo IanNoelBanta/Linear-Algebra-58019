{
  "nbformat": 4,
  "nbformat_minor": 0,
  "metadata": {
    "colab": {
      "name": "Practical Lab Exam 1.ipynb",
      "provenance": [],
      "collapsed_sections": [],
      "authorship_tag": "ABX9TyOUPtj/KGw0pdidDe7MLJxL",
      "include_colab_link": true
    },
    "kernelspec": {
      "name": "python3",
      "display_name": "Python 3"
    },
    "language_info": {
      "name": "python"
    }
  },
  "cells": [
    {
      "cell_type": "markdown",
      "metadata": {
        "id": "view-in-github",
        "colab_type": "text"
      },
      "source": [
        "<a href=\"https://colab.research.google.com/github/Yaniii2021/Linear-Algebra-58019/blob/main/Practical_Lab_Exam_1.ipynb\" target=\"_parent\"><img src=\"https://colab.research.google.com/assets/colab-badge.svg\" alt=\"Open In Colab\"/></a>"
      ]
    },
    {
      "cell_type": "markdown",
      "metadata": {
        "id": "zZbnJDMbn2Qc"
      },
      "source": [
        "##Practical Lab Exam 1\n"
      ]
    },
    {
      "cell_type": "code",
      "metadata": {
        "id": "eS2DR_lFnxif"
      },
      "source": [
        "import numpy as np"
      ],
      "execution_count": 47,
      "outputs": []
    },
    {
      "cell_type": "code",
      "metadata": {
        "colab": {
          "base_uri": "https://localhost:8080/"
        },
        "id": "1UjHHxlCoRie",
        "outputId": "83956d83-d7a9-4204-d472-2cecf90de638"
      },
      "source": [
        "## Problem 1. Consider the four matrices,\n",
        "print('Problem 1.\\n')\n",
        "\n",
        "A = np.array([[1, 2, 3],\n",
        "              [4, 5, 6]])\n",
        "\n",
        "B = np.array([[1, 2],\n",
        "              [3, 4],\n",
        "              [5, 6]])\n",
        "\n",
        "C = np.array([[1, 2, 3],\n",
        "              [4, 5, 6],\n",
        "              [7, 8, 9]])\n",
        "\n",
        "D = np.array([[1, 2],\n",
        "              [3, 4]])\n",
        "\n",
        "## a.) AB\n",
        "\n",
        "print('a.\\n')\n",
        "dot = np.dot(A,B)\n",
        "print(dot)\n",
        "\n",
        "\n",
        "## b.) D + D\n",
        "\n",
        "sum = np.add(D,D)\n",
        "print('\\nb.\\n')\n",
        "print(sum)\n",
        "\n",
        "\n",
        "## c.) 2C \n",
        "\n",
        "product = 2 * C\n",
        "print('\\nc.\\n')\n",
        "print(product)\n",
        "\n",
        "\n"
      ],
      "execution_count": 48,
      "outputs": [
        {
          "output_type": "stream",
          "name": "stdout",
          "text": [
            "Problem 1.\n",
            "\n",
            "a.\n",
            "\n",
            "[[22 28]\n",
            " [49 64]]\n",
            "\n",
            "b.\n",
            "\n",
            "[[2 4]\n",
            " [6 8]]\n",
            "\n",
            "c.\n",
            "\n",
            "[[ 2  4  6]\n",
            " [ 8 10 12]\n",
            " [14 16 18]]\n"
          ]
        }
      ]
    },
    {
      "cell_type": "code",
      "metadata": {
        "colab": {
          "base_uri": "https://localhost:8080/"
        },
        "id": "5V6lw9lLrTrH",
        "outputId": "56d37691-22d0-40b3-929f-df181768acb7"
      },
      "source": [
        "print('Problem 2.\\n')\n",
        "theta = np.array([5, 3, -1])\n",
        "\n",
        "print(f'Matrix: {theta}')\n",
        "\n",
        "#type\n",
        "\n",
        "print(f'Type: {type(theta)}')\n",
        "\n",
        "#shape\n",
        "\n",
        "print(f'Shape: {theta.shape}')\n",
        "\n",
        "#dimension\n",
        "\n",
        "print(f'Dimension: {theta.ndim}')\n",
        "\n",
        "#size\n",
        "\n",
        "print(f'Size: {theta.size}')"
      ],
      "execution_count": 49,
      "outputs": [
        {
          "output_type": "stream",
          "name": "stdout",
          "text": [
            "Problem 2.\n",
            "\n",
            "Matrix: [ 5  3 -1]\n",
            "Type: <class 'numpy.ndarray'>\n",
            "Shape: (3,)\n",
            "Dimension: 1\n",
            "Size: 3\n"
          ]
        }
      ]
    }
  ]
}