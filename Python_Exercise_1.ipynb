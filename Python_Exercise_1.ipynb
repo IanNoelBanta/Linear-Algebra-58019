{
  "nbformat": 4,
  "nbformat_minor": 0,
  "metadata": {
    "colab": {
      "name": "Python Exercise 1.ipynb",
      "provenance": [],
      "authorship_tag": "ABX9TyO8tNE3Yl930zm53hNZqDtC",
      "include_colab_link": true
    },
    "kernelspec": {
      "name": "python3",
      "display_name": "Python 3"
    },
    "language_info": {
      "name": "python"
    }
  },
  "cells": [
    {
      "cell_type": "markdown",
      "metadata": {
        "id": "view-in-github",
        "colab_type": "text"
      },
      "source": [
        "<a href=\"https://colab.research.google.com/github/Yaniii2021/Linear-Algebra-58019/blob/main/Python_Exercise_1.ipynb\" target=\"_parent\"><img src=\"https://colab.research.google.com/assets/colab-badge.svg\" alt=\"Open In Colab\"/></a>"
      ]
    },
    {
      "cell_type": "markdown",
      "metadata": {
        "id": "Q30dQXkY7qSr"
      },
      "source": [
        "#Matrix Algebra and its operations"
      ]
    },
    {
      "cell_type": "code",
      "metadata": {
        "id": "xNseZbcF7pK0"
      },
      "source": [
        "import numpy as np\n",
        "\n",
        "A = np.array([[-5, 0],\n",
        "              [4, 1]])\n",
        "B = np.array([[6, -3],\n",
        "              [2, 3]])"
      ],
      "execution_count": 3,
      "outputs": []
    },
    {
      "cell_type": "markdown",
      "metadata": {
        "id": "Qz9TdHga8cOg"
      },
      "source": [
        "Addition"
      ]
    },
    {
      "cell_type": "code",
      "metadata": {
        "colab": {
          "base_uri": "https://localhost:8080/"
        },
        "id": "AI_tn7cT8aMA",
        "outputId": "d27efec9-9a0a-4730-f8ae-7d3258d5e048"
      },
      "source": [
        "sum = A +B \n",
        "print(sum)"
      ],
      "execution_count": 4,
      "outputs": [
        {
          "output_type": "stream",
          "name": "stdout",
          "text": [
            "[[ 1 -3]\n",
            " [ 6  4]]\n"
          ]
        }
      ]
    },
    {
      "cell_type": "markdown",
      "metadata": {
        "id": "_ZtucxJl8uC5"
      },
      "source": [
        "Subtraction"
      ]
    },
    {
      "cell_type": "code",
      "metadata": {
        "colab": {
          "base_uri": "https://localhost:8080/"
        },
        "id": "WSPIHKNi8wsP",
        "outputId": "402e976d-6c8d-46d3-fdce-1c2ea909d7e3"
      },
      "source": [
        "difference1 = B - A\n",
        "difference2 = A - B\n",
        "\n",
        "print(difference1)\n",
        "print(' ')\n",
        "print(difference2)"
      ],
      "execution_count": 6,
      "outputs": [
        {
          "output_type": "stream",
          "name": "stdout",
          "text": [
            "[[11 -3]\n",
            " [-2  2]]\n",
            " \n",
            "[[-11   3]\n",
            " [  2  -2]]\n"
          ]
        }
      ]
    }
  ]
}