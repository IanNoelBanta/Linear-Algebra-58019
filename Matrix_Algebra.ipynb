{
  "nbformat": 4,
  "nbformat_minor": 0,
  "metadata": {
    "colab": {
      "name": "Matrix Algebra.ipynb",
      "provenance": [],
      "collapsed_sections": [],
      "authorship_tag": "ABX9TyO5kMmk6dmcUBbH2aicj0bn",
      "include_colab_link": true
    },
    "kernelspec": {
      "name": "python3",
      "display_name": "Python 3"
    },
    "language_info": {
      "name": "python"
    }
  },
  "cells": [
    {
      "cell_type": "markdown",
      "metadata": {
        "id": "view-in-github",
        "colab_type": "text"
      },
      "source": [
        "<a href=\"https://colab.research.google.com/github/Yaniii2021/Linear-Algebra-58019/blob/main/Matrix_Algebra.ipynb\" target=\"_parent\"><img src=\"https://colab.research.google.com/assets/colab-badge.svg\" alt=\"Open In Colab\"/></a>"
      ]
    },
    {
      "cell_type": "markdown",
      "metadata": {
        "id": "Lj79fcnLzcxP"
      },
      "source": [
        "##Python program to inverse\n"
      ]
    },
    {
      "cell_type": "code",
      "metadata": {
        "id": "vK40mpsBxpWv"
      },
      "source": [
        "import numpy as np"
      ],
      "execution_count": 1,
      "outputs": []
    },
    {
      "cell_type": "code",
      "metadata": {
        "colab": {
          "base_uri": "https://localhost:8080/"
        },
        "id": "SvS3I9LO3FBV",
        "outputId": "373d750d-aa0b-4611-e8df-23b167c3a8e6"
      },
      "source": [
        "A = np.array([[1, 2],\n",
        "              [4, 7]])\n",
        "\n",
        "invA = np.linalg.inv(A) # inverse of matrix A\n",
        "\n",
        "print(invA) # print the inverse of matrix A"
      ],
      "execution_count": 48,
      "outputs": [
        {
          "output_type": "stream",
          "name": "stdout",
          "text": [
            "[[-7.  2.]\n",
            " [ 4. -1.]]\n"
          ]
        }
      ]
    },
    {
      "cell_type": "code",
      "metadata": {
        "colab": {
          "base_uri": "https://localhost:8080/"
        },
        "id": "7hsWIzIs30MM",
        "outputId": "9c9333df-e78e-4f20-8f96-cf2d8a1f3888"
      },
      "source": [
        "C = np.dot(A, invA) # get identity matrix\n",
        "print(C) # print dot product"
      ],
      "execution_count": 49,
      "outputs": [
        {
          "output_type": "stream",
          "name": "stdout",
          "text": [
            "[[1. 0.]\n",
            " [0. 1.]]\n"
          ]
        }
      ]
    },
    {
      "cell_type": "markdown",
      "metadata": {
        "id": "0dXgkzRu4mkA"
      },
      "source": [
        "##Python Program to Inverse and Transpose a 3x3 Matrix\n",
        "\n",
        "\n"
      ]
    },
    {
      "cell_type": "code",
      "metadata": {
        "colab": {
          "base_uri": "https://localhost:8080/"
        },
        "id": "2WLGnCGl4kfz",
        "outputId": "49c0a867-598d-4d0c-b32a-e5abd3c5de11"
      },
      "source": [
        "A = np.array([[6, 1, 1],\n",
        "              [4,-2, 5],\n",
        "              [2, 8, 7]])\n",
        "\n",
        "InvOfA = np.linalg.inv(A) # to inverse matrix A\n",
        "\n",
        "B = np.transpose(A) # to transpose matrix A\n",
        "\n",
        "print(A)\n",
        "\n",
        "print()\n",
        "\n",
        "print(B)"
      ],
      "execution_count": 52,
      "outputs": [
        {
          "output_type": "stream",
          "name": "stdout",
          "text": [
            "[[ 6  1  1]\n",
            " [ 4 -2  5]\n",
            " [ 2  8  7]]\n",
            "\n",
            "[[ 6  4  2]\n",
            " [ 1 -2  8]\n",
            " [ 1  5  7]]\n"
          ]
        }
      ]
    },
    {
      "cell_type": "code",
      "metadata": {
        "colab": {
          "base_uri": "https://localhost:8080/"
        },
        "id": "H7jWI5PN7LUP",
        "outputId": "2564cf94-ea5d-4c68-e551-fd31cffd18aa"
      },
      "source": [
        "dot = np.dot(A, InvOfA) # get dot product of A and its inverse\n",
        "\n",
        "print(dot)"
      ],
      "execution_count": 33,
      "outputs": [
        {
          "output_type": "stream",
          "name": "stdout",
          "text": [
            "[[ 1.00000000e+00  0.00000000e+00  2.77555756e-17]\n",
            " [-1.38777878e-17  1.00000000e+00  1.38777878e-17]\n",
            " [-4.16333634e-17  1.38777878e-16  1.00000000e+00]]\n"
          ]
        }
      ]
    },
    {
      "cell_type": "code",
      "metadata": {
        "colab": {
          "base_uri": "https://localhost:8080/"
        },
        "id": "c73338sC1CRR",
        "outputId": "17c9edba-7dcb-488f-d48a-9bce0f7f4dbe"
      },
      "source": [
        "# practice\n",
        "M = np.array([[1,7],\n",
        "             [-3, 5]])\n",
        "\n",
        "np.array(M @ np.linalg.inv(M), dtype=int) # get the dot product of M and the inverse of M then convert it to integers to get the identity matrix"
      ],
      "execution_count": 38,
      "outputs": [
        {
          "output_type": "execute_result",
          "data": {
            "text/plain": [
              "array([[1, 0],\n",
              "       [0, 1]])"
            ]
          },
          "metadata": {},
          "execution_count": 38
        }
      ]
    },
    {
      "cell_type": "code",
      "metadata": {
        "colab": {
          "base_uri": "https://localhost:8080/"
        },
        "id": "Y9akSpsxzncZ",
        "outputId": "e1d327d2-faed-468e-e386-7982b9f483ea"
      },
      "source": [
        "# practice\n",
        "A = np.array([[3, 2, 3],\n",
        "              [4, 19, 6],\n",
        "              [74, 2, 9]])\n",
        "\n",
        "B = np.linalg.inv(A)\n",
        "\n",
        "np.array(A @ B, dtype=int) # get the dot product of A and B then convert it to integers to get the identity matrix"
      ],
      "execution_count": 41,
      "outputs": [
        {
          "output_type": "execute_result",
          "data": {
            "text/plain": [
              "array([[1, 0, 0],\n",
              "       [0, 1, 0],\n",
              "       [0, 0, 1]])"
            ]
          },
          "metadata": {},
          "execution_count": 41
        }
      ]
    },
    {
      "cell_type": "markdown",
      "metadata": {
        "id": "8N8z-jD2AgDR"
      },
      "source": [
        "##Coding Activity 3 - Python Exercise 3\n",
        "Create a Python Program to inverse and transpose a 4x4 matrix\n",
        "\n",
        "\n"
      ]
    },
    {
      "cell_type": "code",
      "metadata": {
        "colab": {
          "base_uri": "https://localhost:8080/"
        },
        "id": "HhafYCzuAkyW",
        "outputId": "cd832072-0e30-493e-d313-e32bd79d6174"
      },
      "source": [
        "A = np.array([[6,1,1,3],\n",
        "              [4,-2,5,1],\n",
        "              [2,8,7,6],\n",
        "              [3,1,9,7] ])\n",
        "\n",
        "InvA = np.linalg.inv(A) # to inverse matrix A\n",
        "TransposeA = np.transpose(A) # to transpose matrix A\n",
        "\n",
        "print('The inverse of Matrix A is: ')\n",
        "print(InvA) # print inverse of matrix A\n",
        "\n",
        "print()\n",
        "\n",
        "print('The tranpose of Matrix A is: ')\n",
        "print(TransposeA) # print transpose of matrix A"
      ],
      "execution_count": 53,
      "outputs": [
        {
          "output_type": "stream",
          "name": "stdout",
          "text": [
            "The inverse of Matrix A is: \n",
            "[[ 0.13368984  0.10695187  0.02139037 -0.09090909]\n",
            " [-0.00229183  0.02673797  0.14820474 -0.12987013]\n",
            " [-0.12987013  0.18181818  0.06493506 -0.02597403]\n",
            " [ 0.11000764 -0.28342246 -0.11382735  0.23376623]]\n",
            "\n",
            "The tranpose of Matrix A is: \n",
            "[[ 6  4  2  3]\n",
            " [ 1 -2  8  1]\n",
            " [ 1  5  7  9]\n",
            " [ 3  1  6  7]]\n"
          ]
        }
      ]
    },
    {
      "cell_type": "markdown",
      "metadata": {
        "id": "Mrk9uXoiAgA9"
      },
      "source": [
        ""
      ]
    }
  ]
}