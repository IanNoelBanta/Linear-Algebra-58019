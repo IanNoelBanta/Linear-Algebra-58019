{
  "nbformat": 4,
  "nbformat_minor": 0,
  "metadata": {
    "colab": {
      "name": "Python Exercise 2.ipynb",
      "provenance": [],
      "collapsed_sections": [],
      "authorship_tag": "ABX9TyOKMC7Gnfefy7NySPBhy8e2",
      "include_colab_link": true
    },
    "kernelspec": {
      "name": "python3",
      "display_name": "Python 3"
    },
    "language_info": {
      "name": "python"
    }
  },
  "cells": [
    {
      "cell_type": "markdown",
      "metadata": {
        "id": "view-in-github",
        "colab_type": "text"
      },
      "source": [
        "<a href=\"https://colab.research.google.com/github/Yaniii2021/Linear-Algebra-58019/blob/main/Python_Exercise_2.ipynb\" target=\"_parent\"><img src=\"https://colab.research.google.com/assets/colab-badge.svg\" alt=\"Open In Colab\"/></a>"
      ]
    },
    {
      "cell_type": "markdown",
      "metadata": {
        "id": "A5htfAG9nYPw"
      },
      "source": [
        "##Representing Vectors"
      ]
    },
    {
      "cell_type": "code",
      "metadata": {
        "colab": {
          "base_uri": "https://localhost:8080/"
        },
        "id": "dQckdf6qlO8H",
        "outputId": "afbaff51-59e4-4239-907b-ce49ce2c1dbe"
      },
      "source": [
        "import numpy as np\n",
        "\n",
        "A = np.array([4, 3])\n",
        "B = np.array([2, -5])\n",
        "\n",
        "print('Vector A is ', A)\n",
        "print('Vector B is ', B)"
      ],
      "execution_count": 7,
      "outputs": [
        {
          "output_type": "stream",
          "name": "stdout",
          "text": [
            "Vector A is  [4 3]\n",
            "Vector B is  [ 2 -5]\n"
          ]
        }
      ]
    },
    {
      "cell_type": "markdown",
      "metadata": {
        "id": "kX-Pq4Oio3Tw"
      },
      "source": [
        "##Describing Vectors in Numpy"
      ]
    },
    {
      "cell_type": "code",
      "metadata": {
        "colab": {
          "base_uri": "https://localhost:8080/"
        },
        "id": "jXxzH1Lno2Bg",
        "outputId": "7380c8fd-98f6-4a2f-fa15-bf8e28f227fc"
      },
      "source": [
        "###Checking shapes\n",
        "###Shapes tells us how many rows and columns are there\n",
        "\n",
        "ball1 = np.array([1, 2, 3])\n",
        "ball2 = np.array([0, 1, -1])\n",
        "pool = np.array([ball1, ball2]) ##Matrix\n",
        "\n",
        "pool.shape #number of rows and columns\n",
        "pool.ndim  #checking dimensions"
      ],
      "execution_count": 15,
      "outputs": [
        {
          "output_type": "execute_result",
          "data": {
            "text/plain": [
              "2"
            ]
          },
          "metadata": {},
          "execution_count": 15
        }
      ]
    },
    {
      "cell_type": "code",
      "metadata": {
        "colab": {
          "base_uri": "https://localhost:8080/"
        },
        "id": "8O19D9cSqjCT",
        "outputId": "5e03ba08-fd60-4238-e908-9eadaee0b354"
      },
      "source": [
        "U = np.array([[1, 2, 3], \n",
        "              [4, 5, 6]])\n",
        "\n",
        "U\n",
        "U.shape  #number of rows and columns\n",
        "U.size   #number of elements in a vector"
      ],
      "execution_count": 19,
      "outputs": [
        {
          "output_type": "execute_result",
          "data": {
            "text/plain": [
              "6"
            ]
          },
          "metadata": {},
          "execution_count": 19
        }
      ]
    },
    {
      "cell_type": "markdown",
      "metadata": {
        "id": "Nm6iHLSMru44"
      },
      "source": [
        "##Space"
      ]
    },
    {
      "cell_type": "markdown",
      "metadata": {
        "id": "YHiDmO5ysLw4"
      },
      "source": [
        "Vector spaces are mathematical objects that abstractly capture the geometry and algebra of linear equations"
      ]
    },
    {
      "cell_type": "markdown",
      "metadata": {
        "id": "AiVis3IYtV41"
      },
      "source": [
        "Addition of Vectors"
      ]
    },
    {
      "cell_type": "code",
      "metadata": {
        "colab": {
          "base_uri": "https://localhost:8080/"
        },
        "id": "ZuwijpXfrxog",
        "outputId": "ef1c8234-fca9-45d4-df8a-71c1d3874abb"
      },
      "source": [
        "addend1 = np.array([0, 0, 0])\n",
        "addend2 = np.array([1, 1, 0])\n",
        "sum = addend1 + addend2\n",
        "print(sum)"
      ],
      "execution_count": 24,
      "outputs": [
        {
          "output_type": "stream",
          "name": "stdout",
          "text": [
            "[1 1 0]\n"
          ]
        }
      ]
    },
    {
      "cell_type": "code",
      "metadata": {
        "colab": {
          "base_uri": "https://localhost:8080/"
        },
        "id": "BJd0shT1uA7g",
        "outputId": "f9f17d58-2bbe-4c2d-eabb-c681fb1ceb0d"
      },
      "source": [
        "resultant = np.add(addend1, addend2)\n",
        "print(resultant)"
      ],
      "execution_count": 25,
      "outputs": [
        {
          "output_type": "stream",
          "name": "stdout",
          "text": [
            "[1 1 0]\n"
          ]
        }
      ]
    },
    {
      "cell_type": "markdown",
      "metadata": {
        "id": "ZSG65jzxvA49"
      },
      "source": [
        "Subtraction of Vectors"
      ]
    },
    {
      "cell_type": "code",
      "metadata": {
        "colab": {
          "base_uri": "https://localhost:8080/"
        },
        "id": "nv7IXo51vDgH",
        "outputId": "500d238c-5e5d-44ff-8884-16ad6ea5a148"
      },
      "source": [
        "difference = np.subtract(addend1, addend2)\n",
        "difference"
      ],
      "execution_count": 26,
      "outputs": [
        {
          "output_type": "execute_result",
          "data": {
            "text/plain": [
              "array([-1, -1,  0])"
            ]
          },
          "metadata": {},
          "execution_count": 26
        }
      ]
    },
    {
      "cell_type": "markdown",
      "metadata": {
        "id": "_3irKsWGw6Ad"
      },
      "source": [
        "Multiplication of Vectors"
      ]
    },
    {
      "cell_type": "code",
      "metadata": {
        "colab": {
          "base_uri": "https://localhost:8080/"
        },
        "id": "gkqiKHbKwm0Y",
        "outputId": "e48c4061-35d3-4bdb-fa68-339280447442"
      },
      "source": [
        "A = np.array([1, 5, 8,9])\n",
        "S = 5*A\n",
        "S"
      ],
      "execution_count": 29,
      "outputs": [
        {
          "output_type": "execute_result",
          "data": {
            "text/plain": [
              "array([ 5, 25, 40, 45])"
            ]
          },
          "metadata": {},
          "execution_count": 29
        }
      ]
    },
    {
      "cell_type": "markdown",
      "metadata": {
        "id": "kVOF6zBYw-0k"
      },
      "source": [
        "Cross Product"
      ]
    },
    {
      "cell_type": "code",
      "metadata": {
        "colab": {
          "base_uri": "https://localhost:8080/"
        },
        "id": "nrdFTrZXxGpc",
        "outputId": "f5da9b02-165e-496d-fd3d-179e44ed95b8"
      },
      "source": [
        "A = np.array([2, 3])\n",
        "B = np.array([1, 7])\n",
        "\n",
        "output = np.cross(A,B)\n",
        "\n",
        "output"
      ],
      "execution_count": 32,
      "outputs": [
        {
          "output_type": "execute_result",
          "data": {
            "text/plain": [
              "array(11)"
            ]
          },
          "metadata": {},
          "execution_count": 32
        }
      ]
    },
    {
      "cell_type": "code",
      "metadata": {
        "colab": {
          "base_uri": "https://localhost:8080/"
        },
        "id": "G_yrpq4uy-bV",
        "outputId": "79cfcdb9-bba7-49d0-f191-ce010e71d4c1"
      },
      "source": [
        "C = np.array([2, 3, 4])\n",
        "D = np.array([1, 7, 1])\n",
        "cross = np.cross(C,D)\n",
        "cross"
      ],
      "execution_count": 33,
      "outputs": [
        {
          "output_type": "execute_result",
          "data": {
            "text/plain": [
              "array([-25,   2,  11])"
            ]
          },
          "metadata": {},
          "execution_count": 33
        }
      ]
    }
  ]
}