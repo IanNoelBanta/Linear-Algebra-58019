{
  "nbformat": 4,
  "nbformat_minor": 0,
  "metadata": {
    "colab": {
      "name": "Python Exercise 2.ipynb",
      "provenance": [],
      "collapsed_sections": [],
      "authorship_tag": "ABX9TyMDzo/0hjnkJrWALVfZKRS5",
      "include_colab_link": true
    },
    "kernelspec": {
      "name": "python3",
      "display_name": "Python 3"
    },
    "language_info": {
      "name": "python"
    }
  },
  "cells": [
    {
      "cell_type": "markdown",
      "metadata": {
        "id": "view-in-github",
        "colab_type": "text"
      },
      "source": [
        "<a href=\"https://colab.research.google.com/github/Yaniii2021/Linear-Algebra-58019/blob/main/Python_Exercise_2.ipynb\" target=\"_parent\"><img src=\"https://colab.research.google.com/assets/colab-badge.svg\" alt=\"Open In Colab\"/></a>"
      ]
    },
    {
      "cell_type": "markdown",
      "metadata": {
        "id": "A5htfAG9nYPw"
      },
      "source": [
        "##Representing Vectors"
      ]
    },
    {
      "cell_type": "code",
      "metadata": {
        "colab": {
          "base_uri": "https://localhost:8080/"
        },
        "id": "dQckdf6qlO8H",
        "outputId": "b3fef52f-2b4f-482f-f133-3083fcf57707"
      },
      "source": [
        "import numpy as np\n",
        "\n",
        "A = np.array([4, 3])\n",
        "B = np.array([2, -5])\n",
        "\n",
        "print('Vector A is ', A)\n",
        "print('Vector B is ', B)"
      ],
      "execution_count": 36,
      "outputs": [
        {
          "output_type": "stream",
          "name": "stdout",
          "text": [
            "Vector A is  [4 3]\n",
            "Vector B is  [ 2 -5]\n"
          ]
        }
      ]
    },
    {
      "cell_type": "markdown",
      "metadata": {
        "id": "kX-Pq4Oio3Tw"
      },
      "source": [
        "##Describing Vectors in Numpy"
      ]
    },
    {
      "cell_type": "code",
      "metadata": {
        "colab": {
          "base_uri": "https://localhost:8080/"
        },
        "id": "jXxzH1Lno2Bg",
        "outputId": "b04dcc5f-a0ff-4526-cfbe-03c4e48b57e3"
      },
      "source": [
        "###Checking shapes\n",
        "###Shapes tells us how many rows and columns are there\n",
        "\n",
        "ball1 = np.array([1, 2, 3])\n",
        "ball2 = np.array([0, 1, -1])\n",
        "pool = np.array([ball1, ball2]) ##Matrix\n",
        "\n",
        "pool.shape #number of rows and columns\n",
        "pool.ndim  #checking dimensions"
      ],
      "execution_count": 37,
      "outputs": [
        {
          "output_type": "execute_result",
          "data": {
            "text/plain": [
              "2"
            ]
          },
          "metadata": {},
          "execution_count": 37
        }
      ]
    },
    {
      "cell_type": "code",
      "metadata": {
        "colab": {
          "base_uri": "https://localhost:8080/"
        },
        "id": "8O19D9cSqjCT",
        "outputId": "8ca115b5-2e17-43a9-a6fe-2d8f9add64e5"
      },
      "source": [
        "U = np.array([[1, 2, 3], \n",
        "              [4, 5, 6]])\n",
        "\n",
        "U\n",
        "U.shape  #number of rows and columns\n",
        "U.size   #number of elements in a vector"
      ],
      "execution_count": 38,
      "outputs": [
        {
          "output_type": "execute_result",
          "data": {
            "text/plain": [
              "6"
            ]
          },
          "metadata": {},
          "execution_count": 38
        }
      ]
    },
    {
      "cell_type": "markdown",
      "metadata": {
        "id": "Nm6iHLSMru44"
      },
      "source": [
        "##Space"
      ]
    },
    {
      "cell_type": "markdown",
      "metadata": {
        "id": "YHiDmO5ysLw4"
      },
      "source": [
        "Vector spaces are mathematical objects that abstractly capture the geometry and algebra of linear equations"
      ]
    },
    {
      "cell_type": "markdown",
      "metadata": {
        "id": "AiVis3IYtV41"
      },
      "source": [
        "Addition of Vectors"
      ]
    },
    {
      "cell_type": "code",
      "metadata": {
        "colab": {
          "base_uri": "https://localhost:8080/"
        },
        "id": "ZuwijpXfrxog",
        "outputId": "dcc2f036-5c49-41af-e01d-6c842230289a"
      },
      "source": [
        "addend1 = np.array([0, 0, 0])\n",
        "addend2 = np.array([1, 1, 0])\n",
        "sum = addend1 + addend2\n",
        "print(sum)"
      ],
      "execution_count": 39,
      "outputs": [
        {
          "output_type": "stream",
          "name": "stdout",
          "text": [
            "[1 1 0]\n"
          ]
        }
      ]
    },
    {
      "cell_type": "code",
      "metadata": {
        "colab": {
          "base_uri": "https://localhost:8080/"
        },
        "id": "BJd0shT1uA7g",
        "outputId": "7a5a8d2b-7a42-4e8d-a052-35cae991ff6b"
      },
      "source": [
        "resultant = np.add(addend1, addend2)\n",
        "print(resultant)"
      ],
      "execution_count": 40,
      "outputs": [
        {
          "output_type": "stream",
          "name": "stdout",
          "text": [
            "[1 1 0]\n"
          ]
        }
      ]
    },
    {
      "cell_type": "markdown",
      "metadata": {
        "id": "ZSG65jzxvA49"
      },
      "source": [
        "Subtraction of Vectors"
      ]
    },
    {
      "cell_type": "code",
      "metadata": {
        "colab": {
          "base_uri": "https://localhost:8080/"
        },
        "id": "nv7IXo51vDgH",
        "outputId": "59af844f-c93a-4014-dec8-e4b30ec75fc8"
      },
      "source": [
        "difference = np.subtract(addend1, addend2)\n",
        "difference"
      ],
      "execution_count": 41,
      "outputs": [
        {
          "output_type": "execute_result",
          "data": {
            "text/plain": [
              "array([-1, -1,  0])"
            ]
          },
          "metadata": {},
          "execution_count": 41
        }
      ]
    },
    {
      "cell_type": "markdown",
      "metadata": {
        "id": "_3irKsWGw6Ad"
      },
      "source": [
        "Multiplication of Vectors"
      ]
    },
    {
      "cell_type": "code",
      "metadata": {
        "colab": {
          "base_uri": "https://localhost:8080/"
        },
        "id": "gkqiKHbKwm0Y",
        "outputId": "1e6ec190-9d87-4b17-b756-0d691362bc93"
      },
      "source": [
        "A = np.array([1, 5, 8,9])\n",
        "S = 5*A\n",
        "S"
      ],
      "execution_count": 42,
      "outputs": [
        {
          "output_type": "execute_result",
          "data": {
            "text/plain": [
              "array([ 5, 25, 40, 45])"
            ]
          },
          "metadata": {},
          "execution_count": 42
        }
      ]
    },
    {
      "cell_type": "markdown",
      "metadata": {
        "id": "kVOF6zBYw-0k"
      },
      "source": [
        "Cross Product"
      ]
    },
    {
      "cell_type": "code",
      "metadata": {
        "colab": {
          "base_uri": "https://localhost:8080/"
        },
        "id": "nrdFTrZXxGpc",
        "outputId": "179be4c6-8185-4ded-c61a-80cec6f2db5e"
      },
      "source": [
        "A = np.array([2, 3])\n",
        "B = np.array([1, 7])\n",
        "\n",
        "output = np.cross(A,B)\n",
        "\n",
        "output"
      ],
      "execution_count": 43,
      "outputs": [
        {
          "output_type": "execute_result",
          "data": {
            "text/plain": [
              "array(11)"
            ]
          },
          "metadata": {},
          "execution_count": 43
        }
      ]
    },
    {
      "cell_type": "code",
      "metadata": {
        "colab": {
          "base_uri": "https://localhost:8080/"
        },
        "id": "G_yrpq4uy-bV",
        "outputId": "d39baa69-8309-4a85-878d-3aa102a39ac8"
      },
      "source": [
        "C = np.array([2, 3, 4])\n",
        "D = np.array([1, 7, 1])\n",
        "cross = np.cross(C,D)\n",
        "cross"
      ],
      "execution_count": 44,
      "outputs": [
        {
          "output_type": "execute_result",
          "data": {
            "text/plain": [
              "array([-25,   2,  11])"
            ]
          },
          "metadata": {},
          "execution_count": 44
        }
      ]
    },
    {
      "cell_type": "markdown",
      "metadata": {
        "id": "1SgLxqg00Bxr"
      },
      "source": [
        "Dot Product"
      ]
    },
    {
      "cell_type": "code",
      "metadata": {
        "colab": {
          "base_uri": "https://localhost:8080/"
        },
        "id": "ZWp2p40mz_xv",
        "outputId": "3e1c8a04-b61c-4f2a-b515-d3ce3af1d9ca"
      },
      "source": [
        "dot = np.dot(A,B)\n",
        "dot"
      ],
      "execution_count": 45,
      "outputs": [
        {
          "output_type": "execute_result",
          "data": {
            "text/plain": [
              "23"
            ]
          },
          "metadata": {},
          "execution_count": 45
        }
      ]
    }
  ]
}