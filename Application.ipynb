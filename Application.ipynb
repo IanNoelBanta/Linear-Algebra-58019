{
  "nbformat": 4,
  "nbformat_minor": 0,
  "metadata": {
    "colab": {
      "name": "Application.ipynb",
      "provenance": [],
      "collapsed_sections": [],
      "authorship_tag": "ABX9TyPOgTxWIx7kV4CLbQ7YmEg4",
      "include_colab_link": true
    },
    "kernelspec": {
      "name": "python3",
      "display_name": "Python 3"
    },
    "language_info": {
      "name": "python"
    }
  },
  "cells": [
    {
      "cell_type": "markdown",
      "metadata": {
        "id": "view-in-github",
        "colab_type": "text"
      },
      "source": [
        "<a href=\"https://colab.research.google.com/github/Yaniii2021/Linear-Algebra-58019/blob/main/Application.ipynb\" target=\"_parent\"><img src=\"https://colab.research.google.com/assets/colab-badge.svg\" alt=\"Open In Colab\"/></a>"
      ]
    },
    {
      "cell_type": "markdown",
      "metadata": {
        "id": "_kjXSroNSGeS"
      },
      "source": [
        ""
      ]
    },
    {
      "cell_type": "code",
      "metadata": {
        "id": "Oo0qePYQLDCz"
      },
      "source": [
        "import numpy as np\n",
        "from scipy.linalg import solve"
      ],
      "execution_count": 26,
      "outputs": []
    },
    {
      "cell_type": "code",
      "metadata": {
        "colab": {
          "base_uri": "https://localhost:8080/"
        },
        "id": "CwBq7Jw1LFZR",
        "outputId": "f83268b2-8440-46d0-8684-3df1c6da6724"
      },
      "source": [
        "fruits_sold = np.array([[20,10],  #number of apples and oranges sold per day / coefficients of the linear equations\n",
        "                        [17,22]])\n",
        "\n",
        "total_price = np.array([[350],    #total revenue per day / constants of the linear equations\n",
        "                        [500]])\n",
        "\n",
        "price_of_apple_orange = np.linalg.inv(fruits_sold) @ total_price   #get price of apple and orange / values of the unknown variables \n",
        "                                                                   #by getting the dot product of the inverse the matrix fruits \n",
        "                                                                   #sold and matrix total price\n",
        "\n",
        "print(price_of_apple_orange)"
      ],
      "execution_count": 27,
      "outputs": [
        {
          "output_type": "stream",
          "name": "stdout",
          "text": [
            "[[10.]\n",
            " [15.]]\n"
          ]
        }
      ]
    },
    {
      "cell_type": "code",
      "metadata": {
        "colab": {
          "base_uri": "https://localhost:8080/"
        },
        "id": "9ZU_l3rVOIJN",
        "outputId": "86a34f2e-8d9b-4fe0-ecce-60dc1d7c6854"
      },
      "source": [
        "#checking\n",
        "checking = fruits_sold @ price_of_apple_orange #dot product of fruits sold and the prices for an apple and an orange \n",
        "                                               #to check if it's equal to the constants of the given linear equations\n",
        "print(checking)\n",
        "\n",
        "if 20*10 + 10*15 == 350:\n",
        "  print('True')\n",
        "else:\n",
        "  print('False')"
      ],
      "execution_count": 28,
      "outputs": [
        {
          "output_type": "stream",
          "name": "stdout",
          "text": [
            "[[350.]\n",
            " [500.]]\n",
            "True\n"
          ]
        }
      ]
    },
    {
      "cell_type": "code",
      "metadata": {
        "colab": {
          "base_uri": "https://localhost:8080/"
        },
        "id": "N4ox1WSOLK9B",
        "outputId": "d31ec71c-815c-46d6-d593-3009a2a93c68"
      },
      "source": [
        "coefficients = np.array([[4,3,2],     #matrix of the coefficients of the linear equations\n",
        "                         [-2,2,3],\n",
        "                         [3,-5,2]])\n",
        "\n",
        "constants = np.array([[25],           #matrix of the constants of the linear equations\n",
        "                      [-10],\n",
        "                      [-4]])\n",
        "\n",
        "unknown_variables = solve(np.linalg.inv(coefficients), constants) #use solve to solve for the values of the \n",
        "                                                                  #unknown variables from the inverse of the \n",
        "                                                                  #matrix coefficients and the matrix constants\n",
        "\n",
        "print(unknown_variables) #print the values of the unknown variables"
      ],
      "execution_count": 29,
      "outputs": [
        {
          "output_type": "stream",
          "name": "stdout",
          "text": [
            "[[ 62.]\n",
            " [-82.]\n",
            " [117.]]\n"
          ]
        }
      ]
    },
    {
      "cell_type": "code",
      "metadata": {
        "colab": {
          "base_uri": "https://localhost:8080/"
        },
        "id": "OoIFXCBfRDxy",
        "outputId": "69e9646b-ed38-4170-83d4-d099bbe67689"
      },
      "source": [
        "verify = solve(coefficients, unknown_variables) #verify the values of the unknown variables by using solve \n",
        "                                                #to solve the matrix coefficients and unknown variables values \n",
        "                                                #to check if it's equal to the constants of the given linear equations \n",
        "print(verify)"
      ],
      "execution_count": 30,
      "outputs": [
        {
          "output_type": "stream",
          "name": "stdout",
          "text": [
            "[[ 25.]\n",
            " [-10.]\n",
            " [ -4.]]\n"
          ]
        }
      ]
    }
  ]
}