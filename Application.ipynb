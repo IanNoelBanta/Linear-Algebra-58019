{
  "nbformat": 4,
  "nbformat_minor": 0,
  "metadata": {
    "colab": {
      "name": "Application.ipynb",
      "provenance": [],
      "collapsed_sections": [],
      "authorship_tag": "ABX9TyNAOyY+DRb7V70bfxoo6zCb",
      "include_colab_link": true
    },
    "kernelspec": {
      "name": "python3",
      "display_name": "Python 3"
    },
    "language_info": {
      "name": "python"
    }
  },
  "cells": [
    {
      "cell_type": "markdown",
      "metadata": {
        "id": "view-in-github",
        "colab_type": "text"
      },
      "source": [
        "<a href=\"https://colab.research.google.com/github/Yaniii2021/Linear-Algebra-58019/blob/main/Application.ipynb\" target=\"_parent\"><img src=\"https://colab.research.google.com/assets/colab-badge.svg\" alt=\"Open In Colab\"/></a>"
      ]
    },
    {
      "cell_type": "markdown",
      "metadata": {
        "id": "_kjXSroNSGeS"
      },
      "source": [
        ""
      ]
    },
    {
      "cell_type": "code",
      "metadata": {
        "id": "Oo0qePYQLDCz"
      },
      "source": [
        "import numpy as np\n",
        "from scipy.linalg import solve"
      ],
      "execution_count": 21,
      "outputs": []
    },
    {
      "cell_type": "code",
      "metadata": {
        "colab": {
          "base_uri": "https://localhost:8080/"
        },
        "id": "CwBq7Jw1LFZR",
        "outputId": "b98d7d8d-795b-40bb-980f-4b2a47e0321d"
      },
      "source": [
        "fruits_sold = np.array([[20,10],  #number of apples and oranges sold per day / coefficients of the linear equations\n",
        "                        [17,22]])\n",
        "\n",
        "total_price = np.array([[350],    #total revenue per day / constants of the linear equations\n",
        "                        [500]])\n",
        "\n",
        "price_of_apple_orange = np.linalg.inv(fruits_sold) @ total_price   #get price of apple and orange / values of the unknown variables by getting the dot product of the inverse the matrix fruits sold and matrix total price\n",
        "\n",
        "print(price_of_apple_orange)"
      ],
      "execution_count": 22,
      "outputs": [
        {
          "output_type": "stream",
          "name": "stdout",
          "text": [
            "[[10.]\n",
            " [15.]]\n"
          ]
        }
      ]
    },
    {
      "cell_type": "code",
      "metadata": {
        "colab": {
          "base_uri": "https://localhost:8080/"
        },
        "id": "9ZU_l3rVOIJN",
        "outputId": "ae1d44d4-50bf-4c91-a835-e7c488a8a460"
      },
      "source": [
        "#checking\n",
        "checking = fruits_sold @ price_of_apple_orange #dot product of fruits sold and the prices for an apple and an orange to check if it's equal to the constants of the given linear equations\n",
        "print(checking)\n",
        "\n",
        "if 20*10 + 10*15 == 350:\n",
        "  print('True')\n",
        "else:\n",
        "  print('False')"
      ],
      "execution_count": 23,
      "outputs": [
        {
          "output_type": "stream",
          "name": "stdout",
          "text": [
            "[[350.]\n",
            " [500.]]\n",
            "True\n"
          ]
        }
      ]
    },
    {
      "cell_type": "code",
      "metadata": {
        "colab": {
          "base_uri": "https://localhost:8080/"
        },
        "id": "N4ox1WSOLK9B",
        "outputId": "56a28f32-9d39-4625-c495-4e493d21370a"
      },
      "source": [
        "coefficients = np.array([[4,3,2],     #matrix of the coefficients of the linear equations\n",
        "                         [-2,2,3],\n",
        "                         [3,-5,2]])\n",
        "\n",
        "constants = np.array([[25],           #matrix of the constants of the linear equations\n",
        "                      [-10],\n",
        "                      [-4]])\n",
        "\n",
        "unknown_variables = solve(np.linalg.inv(coefficients), constants) #use solve to solve for the values of the unknown variables from the inverse of the matrix coefficients and the matrix constants\n",
        "\n",
        "print(unknown_variables) #print the values of the unknown variables"
      ],
      "execution_count": 24,
      "outputs": [
        {
          "output_type": "stream",
          "name": "stdout",
          "text": [
            "[[ 62.]\n",
            " [-82.]\n",
            " [117.]]\n"
          ]
        }
      ]
    },
    {
      "cell_type": "code",
      "metadata": {
        "colab": {
          "base_uri": "https://localhost:8080/"
        },
        "id": "OoIFXCBfRDxy",
        "outputId": "bc552a56-bc3b-4e76-a0fb-fd96ecc0e269"
      },
      "source": [
        "verify = solve(coefficients, unknown_variables) #verify the values of the unknown variables by using solve to solve the matrix coefficients and unknown variables values to check if it's equal to the constants of the given linear equations \n",
        "print(verify)"
      ],
      "execution_count": 25,
      "outputs": [
        {
          "output_type": "stream",
          "name": "stdout",
          "text": [
            "[[ 25.]\n",
            " [-10.]\n",
            " [ -4.]]\n"
          ]
        }
      ]
    }
  ]
}