{
  "nbformat": 4,
  "nbformat_minor": 0,
  "metadata": {
    "colab": {
      "name": "Midterm Exam.ipynb",
      "provenance": [],
      "collapsed_sections": [],
      "authorship_tag": "ABX9TyMwGONl0vUQGubZhOhjmMgM",
      "include_colab_link": true
    },
    "kernelspec": {
      "name": "python3",
      "display_name": "Python 3"
    },
    "language_info": {
      "name": "python"
    }
  },
  "cells": [
    {
      "cell_type": "markdown",
      "metadata": {
        "id": "view-in-github",
        "colab_type": "text"
      },
      "source": [
        "<a href=\"https://colab.research.google.com/github/Yaniii2021/Linear-Algebra-58019/blob/main/Midterm_Exam.ipynb\" target=\"_parent\"><img src=\"https://colab.research.google.com/assets/colab-badge.svg\" alt=\"Open In Colab\"/></a>"
      ]
    },
    {
      "cell_type": "markdown",
      "metadata": {
        "id": "XVZLRlGF3yGu"
      },
      "source": [
        "##Midterm Exam - Banta, Ian Noel M.\n"
      ]
    },
    {
      "cell_type": "code",
      "metadata": {
        "id": "FiE61NMJ5iCw"
      },
      "source": [
        "import numpy as np # import numpy as np"
      ],
      "execution_count": null,
      "outputs": []
    },
    {
      "cell_type": "markdown",
      "metadata": {
        "id": "eLR045Vl39Cj"
      },
      "source": [
        "Question 1. Create a Python code that displays a square matrix whose length is 5 (10 points)"
      ]
    },
    {
      "cell_type": "code",
      "metadata": {
        "colab": {
          "base_uri": "https://localhost:8080/"
        },
        "id": "AR-KLVn53rSV",
        "outputId": "8cbecf83-77e1-4611-d847-2c55b1b531f1"
      },
      "source": [
        "square_matrix = np.identity(5) # create a 5x5 matrix using the method called identity/eye, with 5 as argument for the length of the square\n",
        "\n",
        "print(f'Square Matrix whose length is 5: \\n{square_matrix}') # print the square matrix with a length of 5: 5 rows and 5 columns"
      ],
      "execution_count": null,
      "outputs": [
        {
          "output_type": "stream",
          "name": "stdout",
          "text": [
            "Square Matrix whose length is 5: \n",
            "[[1. 0. 0. 0. 0.]\n",
            " [0. 1. 0. 0. 0.]\n",
            " [0. 0. 1. 0. 0.]\n",
            " [0. 0. 0. 1. 0.]\n",
            " [0. 0. 0. 0. 1.]]\n"
          ]
        }
      ]
    },
    {
      "cell_type": "markdown",
      "metadata": {
        "id": "t_4ZXXa33_3z"
      },
      "source": [
        "Question 2. Create a Python code that displays a square matrix whose elements below the principal diagonal are zero (10 points)"
      ]
    },
    {
      "cell_type": "code",
      "metadata": {
        "colab": {
          "base_uri": "https://localhost:8080/"
        },
        "id": "cJ5db-Ej7tz7",
        "outputId": "2cc1fa21-ec25-4dc6-ebaa-2b0bbeba2bd1"
      },
      "source": [
        "upper_triangular_matrix = np.array([[1,2,3],\n",
        "                                    [0,3,1],\n",
        "                                    [0,0,5]]) # create a square matrix with the length of 3 or 3x3 with the lower triangle being all zeros\n",
        "\n",
        "print(f'Upper triangular matrix: \\n{upper_triangular_matrix}') # print the square upper triangular matrix with 0s below the principal diagonal"
      ],
      "execution_count": null,
      "outputs": [
        {
          "output_type": "stream",
          "name": "stdout",
          "text": [
            "Upper triangular matrix: \n",
            "[[1 2 3]\n",
            " [0 3 1]\n",
            " [0 0 5]]\n"
          ]
        }
      ]
    },
    {
      "cell_type": "markdown",
      "metadata": {
        "id": "cWCRe3Fs4CPy"
      },
      "source": [
        "Question 3. Create a Python code that displays a square matrix which is symmetrical (10 points)"
      ]
    },
    {
      "cell_type": "code",
      "metadata": {
        "colab": {
          "base_uri": "https://localhost:8080/"
        },
        "id": "mwC_MT527ukD",
        "outputId": "0cbb4559-843d-4102-fb34-403d8efc617b"
      },
      "source": [
        "symmetrical_square_matrix = np.array([[1,1,1],\n",
        "                                      [1,2,2],\n",
        "                                      [1,2,3]]) # create a symmetrical square matrix\n",
        "\n",
        "transpose = np.transpose(symmetrical_square_matrix) # transpose the symmetrical square matrix \n",
        "\n",
        "print(f'Symmetrical square matrix: \\n{symmetrical_square_matrix}') # print the symmetrical square matrix\n",
        "\n",
        "print('\\nTo prove that it is syemmetrical: \\n')\n",
        "\n",
        "print(f'Transposed matrix: \\n{transpose}') # print the transposed matrix"
      ],
      "execution_count": null,
      "outputs": [
        {
          "output_type": "stream",
          "name": "stdout",
          "text": [
            "Symmetrical square matrix: \n",
            "[[1 1 1]\n",
            " [1 2 2]\n",
            " [1 2 3]]\n",
            "\n",
            "To prove that it is syemmetrical: \n",
            "\n",
            "Transposed matrix: \n",
            "[[1 1 1]\n",
            " [1 2 2]\n",
            " [1 2 3]]\n"
          ]
        }
      ]
    },
    {
      "cell_type": "markdown",
      "metadata": {
        "id": "dGPRyWNH4EHE"
      },
      "source": [
        "Question 4. What is the inverse of matrix C? Show your solution by python coding. (20 points)"
      ]
    },
    {
      "cell_type": "code",
      "metadata": {
        "colab": {
          "base_uri": "https://localhost:8080/"
        },
        "id": "4BeumDWE6bMU",
        "outputId": "6a7a3886-fe71-4485-f609-9c881f7da98a"
      },
      "source": [
        "C = np.array([[1,2,3],\n",
        "              [2,3,3],\n",
        "              [3,4,-2]]) # create matrix C\n",
        "\n",
        "inverse_of_matrix_C = np.linalg.inv(C) # use linalg.inv method to get the inverse of matrix C\n",
        "\n",
        "print(f'The inverse of Matrix C: \\n{inverse_of_matrix_C}') # print the inverse of matrix C"
      ],
      "execution_count": null,
      "outputs": [
        {
          "output_type": "stream",
          "name": "stdout",
          "text": [
            "The inverse of Matrix C: \n",
            "[[-3.6  3.2 -0.6]\n",
            " [ 2.6 -2.2  0.6]\n",
            " [-0.2  0.4 -0.2]]\n"
          ]
        }
      ]
    },
    {
      "cell_type": "markdown",
      "metadata": {
        "id": "RQ_12bCs4mxF"
      },
      "source": [
        "Question 5. What is the determinant of the given matrix in Question 4? Show your solution by python coding. (20 points)"
      ]
    },
    {
      "cell_type": "code",
      "metadata": {
        "colab": {
          "base_uri": "https://localhost:8080/"
        },
        "id": "tmyJ8o_u6YHI",
        "outputId": "b39f5d22-af9c-4ef7-8807-60128eed967f"
      },
      "source": [
        "determinant_of_matrix_C = np.linalg.det(C) # use the linalg.der method with matrix C as the argument in order to get the determinant of matrix C\n",
        "\n",
        "print(f'Raw Determinant of Matrix C: {determinant_of_matrix_C}') # print raw determinant of matrix C\n",
        "\n",
        "print(f'Rounded Determinant of Matrix C: {round(determinant_of_matrix_C)}') # print rounded determinant of matrix C"
      ],
      "execution_count": 26,
      "outputs": [
        {
          "output_type": "stream",
          "name": "stdout",
          "text": [
            "Raw Determinant of Matrix C: 5.000000000000001\n",
            "Rounded Determinant of Matrix C: 5\n"
          ]
        }
      ]
    },
    {
      "cell_type": "markdown",
      "metadata": {
        "id": "n6-Ugct14o-z"
      },
      "source": [
        "Question 6. Find the roots of the linear equations by showing its python codes (30 points)\n",
        "\n",
        "5X1 + 4X2 + X3 = 3.4\n",
        "\n",
        "10X1 + 9X2 + 4X3 = 8.8\n",
        "\n",
        "10X1 + 13X2 + 15X3 = 19.2"
      ]
    },
    {
      "cell_type": "code",
      "metadata": {
        "colab": {
          "base_uri": "https://localhost:8080/"
        },
        "id": "2ql4pTwM5JB2",
        "outputId": "b45bfc21-db81-4e0f-e449-cfcc74f34fef"
      },
      "source": [
        "Equations = np.array([[5,4,1],\n",
        "                      [10,9,4],\n",
        "                      [10,13,15]]) # create a matrix based on the coefficients of the equations\n",
        "\n",
        "Constants = np.array([[[3.4],\n",
        "                       [8.8],\n",
        "                       [19.2]]]) # create a matrix based on the constants of the equations\n",
        "\n",
        "roots = np.linalg.inv(Equations) @ Constants # use @ in order to get the dot product of the inverse of the equations matrix and the constants matrix\n",
        "\n",
        "print(f'The roots are: \\n{roots}') # print the roots from the dot product"
      ],
      "execution_count": null,
      "outputs": [
        {
          "output_type": "stream",
          "name": "stdout",
          "text": [
            "The roots are: \n",
            "[[[0.2]\n",
            "  [0.4]\n",
            "  [0.8]]]\n"
          ]
        }
      ]
    }
  ]
}